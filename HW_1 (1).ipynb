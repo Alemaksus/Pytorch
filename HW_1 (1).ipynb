{
  "cells": [
    {
      "cell_type": "code",
      "execution_count": null,
      "metadata": {
        "id": "_CNZn_3CofVO"
      },
      "outputs": [],
      "source": [
        "import torch"
      ]
    },
    {
      "cell_type": "code",
      "execution_count": null,
      "metadata": {
        "id": "QGYTKAxeofVR",
        "outputId": "b74e3e35-84d4-45ae-aeb6-78be7bdced30",
        "colab": {
          "base_uri": "https://localhost:8080/"
        }
      },
      "outputs": [
        {
          "output_type": "stream",
          "name": "stdout",
          "text": [
            "tensor([[[2.5510e-36, 0.0000e+00, 2.9848e-43, 0.0000e+00, 0.0000e+00],\n",
            "         [0.0000e+00, 0.0000e+00, 0.0000e+00, 0.0000e+00, 0.0000e+00],\n",
            "         [1.8788e+31, 1.7220e+22, 2.1715e-18, 4.3683e-05, 4.3445e-05],\n",
            "         [6.6011e-07, 1.3295e+22, 4.1297e-05, 1.2926e-11, 2.1953e-04]],\n",
            "\n",
            "        [[1.3543e-05, 6.5923e-10, 2.1707e-18, 4.5447e+30, 7.0062e+22],\n",
            "         [2.1715e-18, 4.5447e+30, 7.0062e+22, 2.1707e-18, 1.9284e+31],\n",
            "         [3.2314e-18, 1.8692e+20, 1.3226e-08, 1.2982e-11, 1.7062e-07],\n",
            "         [6.7354e+22, 5.2661e-08, 1.9992e+20, 5.4363e+22, 1.0606e-08]],\n",
            "\n",
            "        [[2.4154e-18, 3.1360e+27, 7.0800e+31, 3.1095e-18, 1.2250e+25],\n",
            "         [7.0969e+22, 4.4260e+30, 7.2442e+22, 2.3086e-12, 7.2646e+22],\n",
            "         [7.2250e+28, 1.5766e-19, 6.3376e-10, 2.1707e-18, 7.2128e+22],\n",
            "         [2.1715e-18, 1.0372e-08, 1.0470e-11, 3.0881e-09, 2.5790e-09]]])\n"
          ]
        }
      ],
      "source": [
        "# 1. Создайте случайный FloatTensor размера 3x4x5\n",
        "\n",
        "a = torch.FloatTensor(3, 4, 5)\n",
        "print(a)\n",
        "\n",
        "\n",
        "\n"
      ]
    },
    {
      "cell_type": "code",
      "execution_count": null,
      "metadata": {
        "id": "7GV_q8DdofVV",
        "outputId": "ae79b492-ccf7-4c29-c5bd-ae26bb764676",
        "colab": {
          "base_uri": "https://localhost:8080/"
        }
      },
      "outputs": [
        {
          "output_type": "execute_result",
          "data": {
            "text/plain": [
              "torch.Size([3, 4, 5])"
            ]
          },
          "metadata": {},
          "execution_count": 28
        }
      ],
      "source": [
        "# 2. Выведите его форму (shape)\n",
        "\n",
        "a.shape"
      ]
    },
    {
      "cell_type": "code",
      "execution_count": null,
      "metadata": {
        "id": "f1OTy65FofVX",
        "outputId": "4dcec5ba-b5fc-4830-f06b-7c1bcbe03a5c",
        "colab": {
          "base_uri": "https://localhost:8080/"
        }
      },
      "outputs": [
        {
          "output_type": "stream",
          "name": "stdout",
          "text": [
            "tensor([[2.5510e-36, 0.0000e+00, 2.9848e-43, 0.0000e+00, 0.0000e+00, 0.0000e+00,\n",
            "         0.0000e+00, 0.0000e+00, 0.0000e+00, 0.0000e+00],\n",
            "        [1.8788e+31, 1.7220e+22, 2.1715e-18, 4.3683e-05, 4.3445e-05, 6.6011e-07,\n",
            "         1.3295e+22, 4.1297e-05, 1.2926e-11, 2.1953e-04],\n",
            "        [1.3543e-05, 6.5923e-10, 2.1707e-18, 4.5447e+30, 7.0062e+22, 2.1715e-18,\n",
            "         4.5447e+30, 7.0062e+22, 2.1707e-18, 1.9284e+31],\n",
            "        [3.2314e-18, 1.8692e+20, 1.3226e-08, 1.2982e-11, 1.7062e-07, 6.7354e+22,\n",
            "         5.2661e-08, 1.9992e+20, 5.4363e+22, 1.0606e-08],\n",
            "        [2.4154e-18, 3.1360e+27, 7.0800e+31, 3.1095e-18, 1.2250e+25, 7.0969e+22,\n",
            "         4.4260e+30, 7.2442e+22, 2.3086e-12, 7.2646e+22],\n",
            "        [7.2250e+28, 1.5766e-19, 6.3376e-10, 2.1707e-18, 7.2128e+22, 2.1715e-18,\n",
            "         1.0372e-08, 1.0470e-11, 3.0881e-09, 2.5790e-09]])\n"
          ]
        },
        {
          "output_type": "execute_result",
          "data": {
            "text/plain": [
              "torch.Size([6, 10])"
            ]
          },
          "metadata": {},
          "execution_count": 29
        }
      ],
      "source": [
        "# 3. Приведите его к форме 6х10\n",
        "\n",
        "a = a.reshape(6, 10)\n",
        "print(a)\n",
        "a.shape\n"
      ]
    },
    {
      "cell_type": "code",
      "execution_count": null,
      "metadata": {
        "id": "BEVOv9_TofVe",
        "outputId": "160fcf9a-c8c2-42ea-eead-86f2b96dbc81",
        "colab": {
          "base_uri": "https://localhost:8080/"
        }
      },
      "outputs": [
        {
          "output_type": "execute_result",
          "data": {
            "text/plain": [
              "torch.Size([10])"
            ]
          },
          "metadata": {},
          "execution_count": 30
        }
      ],
      "source": [
        "# 4. Создайте случайный IntTensor размера 10\n",
        "b = torch.IntTensor(10)\n",
        "b.shape"
      ]
    },
    {
      "cell_type": "code",
      "source": [
        "# 5. Умножьте созданный FloatTensor на созданный IntTensor поэлементно\n",
        "\n",
        "c = a * b\n",
        "print(c)\n",
        "type(c)\n",
        "c.shape"
      ],
      "metadata": {
        "id": "TAX3DUiSa07K",
        "outputId": "fd3dcd91-e5d3-482e-f076-9b8d517f8730",
        "colab": {
          "base_uri": "https://localhost:8080/"
        }
      },
      "execution_count": null,
      "outputs": [
        {
          "output_type": "stream",
          "name": "stdout",
          "text": [
            "tensor([[ 1.7417e-28,  0.0000e+00,  7.1634e-42,  0.0000e+00, -0.0000e+00,\n",
            "          0.0000e+00,  0.0000e+00,  0.0000e+00,  0.0000e+00,  0.0000e+00],\n",
            "        [        inf,  0.0000e+00,  5.2116e-17,  0.0000e+00, -4.3445e-05,\n",
            "          1.1118e+01,  2.2181e+31,  7.2974e+04,  1.9768e-02,  1.8094e+05],\n",
            "        [ 9.2469e+02,  0.0000e+00,  5.2098e-17,  0.0000e+00, -7.0062e+22,\n",
            "          3.6574e-11,         inf,  1.2380e+32,  3.3199e-09,         inf],\n",
            "        [ 2.2063e-10,  0.0000e+00,  3.1742e-07,  0.0000e+00, -1.7062e-07,\n",
            "          1.1344e+30,  8.7862e+01,  3.5326e+29,  8.3141e+31,  8.7413e+00],\n",
            "        [ 1.6491e-10,  0.0000e+00,  1.6992e+33,  0.0000e+00, -1.2250e+25,\n",
            "          1.1953e+30,         inf,  1.2801e+32,  3.5307e-03,  5.9874e+31],\n",
            "        [ 4.9329e+36,  0.0000e+00,  1.5210e-08,  0.0000e+00, -7.2128e+22,\n",
            "          3.6574e-11,  1.7305e+01,  1.8501e-02,  4.7229e+00,  2.1256e+00]])\n"
          ]
        },
        {
          "output_type": "execute_result",
          "data": {
            "text/plain": [
              "torch.Size([6, 10])"
            ]
          },
          "metadata": {},
          "execution_count": 37
        }
      ]
    },
    {
      "cell_type": "code",
      "execution_count": null,
      "metadata": {
        "id": "eUxdWlQZofVi",
        "outputId": "a77c7211-b356-44b5-d46d-23ea4e708d47",
        "colab": {
          "base_uri": "https://localhost:8080/"
        }
      },
      "outputs": [
        {
          "output_type": "execute_result",
          "data": {
            "text/plain": [
              "torch.Size([6, 6])"
            ]
          },
          "metadata": {},
          "execution_count": 38
        }
      ],
      "source": [
        "# 6. Умножьте тензор матрично на себя, чтобы результат был размерности 6x6\n",
        "# Подсказка: .dot может не подойти\n",
        "\n",
        "c.resize_(6, 6)\n",
        "z = torch.matmul(c, c)\n",
        "z.shape\n"
      ]
    },
    {
      "cell_type": "code",
      "execution_count": null,
      "metadata": {
        "id": "u3V6CsNkofVj",
        "colab": {
          "base_uri": "https://localhost:8080/"
        },
        "outputId": "b8eb2a75-06a1-4074-f7cc-5d49dc788910"
      },
      "outputs": [
        {
          "output_type": "execute_result",
          "data": {
            "text/plain": [
              "tensor(-75.)"
            ]
          },
          "metadata": {},
          "execution_count": 46
        }
      ],
      "source": [
        "# 7. Посчитайте производную функции y = x**3 + z - 75t в точке (1, 0.5, 2)\n",
        "\n",
        "x = torch.tensor(1.0, requires_grad=True) \n",
        "z = torch.tensor(0.5, requires_grad=True) \n",
        "t = torch.tensor(0.5, requires_grad=True)\n",
        "\n",
        "y = x**3 + z - 75*t \n",
        "\n",
        "y.backward() \n",
        "x.grad \n",
        "z.grad \n",
        "t.grad\n"
      ]
    },
    {
      "cell_type": "code",
      "execution_count": null,
      "metadata": {
        "id": "FzH6QkyxofVm",
        "colab": {
          "base_uri": "https://localhost:8080/"
        },
        "outputId": "7859bfca-e958-4761-ed7c-efec9dc2db9b"
      },
      "outputs": [
        {
          "output_type": "stream",
          "name": "stdout",
          "text": [
            "tensor([[1., 1., 1., 1., 1., 1.],\n",
            "        [1., 1., 1., 1., 1., 1.],\n",
            "        [1., 1., 1., 1., 1., 1.],\n",
            "        [1., 1., 1., 1., 1., 1.],\n",
            "        [1., 1., 1., 1., 1., 1.]])\n"
          ]
        }
      ],
      "source": [
        "# 8. Создайте единичный тензор размера 5x6\n",
        "\n",
        "single_tsr = torch.Tensor(5, 6).fill_(1)\n",
        "print(single_tsr)"
      ]
    },
    {
      "cell_type": "code",
      "execution_count": null,
      "metadata": {
        "id": "z49ttvWPofVo",
        "colab": {
          "base_uri": "https://localhost:8080/"
        },
        "outputId": "38108f1f-f927-48ad-ca3c-d47e8e1223c0"
      },
      "outputs": [
        {
          "output_type": "stream",
          "name": "stdout",
          "text": [
            "[[1. 1. 1. 1. 1. 1.]\n",
            " [1. 1. 1. 1. 1. 1.]\n",
            " [1. 1. 1. 1. 1. 1.]\n",
            " [1. 1. 1. 1. 1. 1.]\n",
            " [1. 1. 1. 1. 1. 1.]]\n"
          ]
        }
      ],
      "source": [
        "# 9. Переведите его в формат numpy\n",
        "\n",
        "\n",
        "b = single_tsr.numpy()\n",
        "single_tsr = b\n",
        "print(single_tsr)"
      ]
    }
  ],
  "metadata": {
    "kernelspec": {
      "display_name": "Python 3",
      "language": "python",
      "name": "python3"
    },
    "language_info": {
      "codemirror_mode": {
        "name": "ipython",
        "version": 3
      },
      "file_extension": ".py",
      "mimetype": "text/x-python",
      "name": "python",
      "nbconvert_exporter": "python",
      "pygments_lexer": "ipython3",
      "version": "3.7.4"
    },
    "colab": {
      "name": "HW_1.ipynb",
      "provenance": [],
      "collapsed_sections": []
    }
  },
  "nbformat": 4,
  "nbformat_minor": 0
}